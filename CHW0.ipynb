{
 "cells": [
  {
   "cell_type": "markdown",
   "metadata": {},
   "source": [
    "# __CHW0__"
   ]
  },
  {
   "cell_type": "markdown",
   "metadata": {},
   "source": [
    "Please save all the files including the notebook file and other files as `STUDENTNUMBER_Prob&Stats_CHW0.zip` and complete the following sections as described in the `CHW0.ipynb` notebook.<br>\n",
    "Blue sections are <span style=\"color: #2791E8;\">Theorical Questions</span>  and Green sections are <span style=\"color: #27E860;\"> Applied Questions</span> that need to be simulated based on the given description.<br>\n",
    "The github link for the class is [here]("
   ]
  },
  {
   "cell_type": "markdown",
   "metadata": {},
   "source": [
    "### <span style=\"color:purple;\"> __StudentID:__</span> (enter your student ID here)"
   ]
  },
  {
   "cell_type": "markdown",
   "metadata": {},
   "source": [
    "You either need to install Anaconda and Jupyter notebook to run the notebook or you can use VSCode extentions for opening ipynb files.   \n",
    "[Installing Jupyter Notebook with anaconda](https://www.youtube.com/watch?v=WOK9HeB-OmY)   \n",
    "[Installing Jupyter Notebook on VSCode](https://www.youtube.com/watch?v=h1sAzPojKMg)   \n",
    "[Installing Jupyter Notebook independently](https://www.youtube.com/watch?v=8YGPfGDYAgI)   \n",
    "[Documentation on Anaconda](https://docs.anaconda.com/anaconda/user-guide/getting-started/)   \n",
    "[Documentation on Jupyter Notebook](https://jupyter-notebook.readthedocs.io/en/stable/notebook.html)"
   ]
  },
  {
   "cell_type": "markdown",
   "metadata": {},
   "source": [
    "For learning begining python this source can be useful:\n",
    "\n",
    "| Resource Description       | Link                                |\n",
    "|----------------------------|-------------------------------------|\n",
    "| Learning Python syntax   | [w3schools](https://www.w3schools.com/python/python_syntax.asp)             ||----------------------------|-------------------------------------|\n",
    "| Full Python Playlist      | [Youtube](https://www.youtube.com/playlist?list=PLZoTAELRMXVNUL99R4bDlVYsncUNvwUBB)          ||----------------------------|-------------------------------------|\n",
    "| Pandas Source    | [w3schools](https://www.w3schools.com/python/pandas/default.asp)             ||----------------------------|-------------------------------------|\n",
    "| SciPy Source    | [w3schools](https://www.w3schools.com/python/scipy/index.php)             ||----------------------------|-------------------------------------|\n",
    "| Python Source (not all parts are needed)   | [GitHub](https://github.com/krishnaik06/Machine-Learning-in-90-days)             ||----------------------------|-------------------------------------|\n",
    "| Beginning Python Source    | [Link to Resource](URL)             ||----------------------------|-------------------------------------|\n",
    "| Beginning Python Source    | [Link to Resource](URL)             ||----------------------------|-------------------------------------|\n",
    "| Beginning Python Source    | [Link to Resource](URL)             ||----------------------------|-------------------------------------|\n",
    "| Beginning Python Source    | [Link to Resource](URL)             |\n"
   ]
  },
  {
   "cell_type": "markdown",
   "metadata": {},
   "source": []
  }
 ],
 "metadata": {
  "language_info": {
   "name": "python"
  }
 },
 "nbformat": 4,
 "nbformat_minor": 2
}
