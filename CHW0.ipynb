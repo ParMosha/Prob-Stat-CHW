{
 "cells": [
  {
   "cell_type": "markdown",
   "metadata": {},
   "source": [
    "# __CHW0__\n",
    "### <span style=\"color:purple;\"> __StudentID:__</span> (enter your student ID here)\n",
    "---"
   ]
  },
  {
   "cell_type": "markdown",
   "metadata": {},
   "source": [
    "Please save all the files including the notebook file and other files as `Prob&Stats_CHW0_STUDENTNUMBER.zip` and complete the following sections as described in the `CHW0.ipynb` notebook.<br>\n",
    "Blue sections are <span style=\"color: #2791E8;\">Theorical Questions</span> that need to be answerd in markdowns or in a seperated pdf file and Green sections are <span style=\"color: #27E860;\"> Applied Questions</span> that need to be simulated based on the given description.<br>\n",
    "The GitHub link for the class is [here](https://github.com/ParMosha/ProbAndStats-CHW)."
   ]
  },
  {
   "cell_type": "markdown",
   "metadata": {},
   "source": [
    "##### __Some Basics:__ \n",
    "----\n",
    "You either need to install Anaconda and Jupyter notebook to run the notebook or you can use VSCode extentions for opening ipynb files.   \n",
    "[Installing Jupyter Notebook with anaconda](https://www.youtube.com/watch?v=WOK9HeB-OmY)   \n",
    "[Installing Jupyter Notebook on VSCode](https://www.youtube.com/watch?v=h1sAzPojKMg)   \n",
    "[Installing Jupyter Notebook independently](https://www.youtube.com/watch?v=8YGPfGDYAgI)   \n",
    "[Documentation on Anaconda](https://docs.anaconda.com/anaconda/user-guide/getting-started/)   \n",
    "[Documentation on Jupyter Notebook](https://jupyter-notebook.readthedocs.io/en/stable/notebook.html)"
   ]
  },
  {
   "cell_type": "markdown",
   "metadata": {},
   "source": [
    "For learning begining python this source can be useful:\n",
    "\n",
    "| Resource Description       | Link                                |\n",
    "|----------------------------|-------------------------------------|\n",
    "| Learning Python syntax   | [w3schools](https://www.w3schools.com/python/python_syntax.asp)             ||----------------------------|-------------------------------------|\n",
    "| Full Python Playlist      | [Youtube](https://www.youtube.com/playlist?list=PLZoTAELRMXVNUL99R4bDlVYsncUNvwUBB)          ||----------------------------|-------------------------------------|\n",
    "| Pandas Source    | [w3schools](https://www.w3schools.com/python/pandas/default.asp)             ||----------------------------|-------------------------------------|\n",
    "| Matplotlib Source    | [w3schools](https://www.w3schools.com/python/matplotlib_intro.asp)             ||----------------------------|-------------------------------------|\n",
    "| SciPy Source    | [w3schools](https://www.w3schools.com/python/scipy/index.php)             ||----------------------------|-------------------------------------|| \n",
    "| Python Source (not all parts are needed)   | [GitHub](https://github.com/krishnaik06/Machine-Learning-in-90-days)             ||----------------------------|-------------------------------------|\n",
    "| Python NumPy Tutorial    | [Youtube](https://www.youtube.com/watch?v=QUT1VHiLmmI&pp=ygUObnVtcHkgdHV0b3JpYWw%3D)             ||----------------------------|-------------------------------------|\n",
    "| Python Pandas Tutorial    | [Youtube](https://www.youtube.com/watch?v=vmEHCJofslg&pp=ygUPcGFuZGFzIHR1dG9yaWFs)             ||----------------------------|-------------------------------------|\n",
    "| Some NumbPy examples and solutions to give intuition    | [GitHub](https://github.com/rougier/numpy-100/blob/master/100_Numpy_exercises.ipynb)\n"
   ]
  },
  {
   "cell_type": "markdown",
   "metadata": {},
   "source": [
    "For installing the required libraries you can run the following commands in the following code block."
   ]
  },
  {
   "cell_type": "code",
   "execution_count": null,
   "metadata": {},
   "outputs": [],
   "source": [
    "!pip install numpy pandas scipy matplotlib"
   ]
  },
  {
   "cell_type": "code",
   "execution_count": 4,
   "metadata": {},
   "outputs": [],
   "source": [
    "# Run the following code to import the necessary libraries\n",
    "import numpy as np\n",
    "import pandas as pd\n",
    "import matplotlib.pyplot as plt"
   ]
  },
  {
   "cell_type": "markdown",
   "metadata": {},
   "source": [
    "#### <span style=\"color: #27E860;\"> Applied Question 1 :</span>\n",
    "\n",
    "---\n",
    "Using np.random write `singleCoinToss()` function to simulate a coin toss.<br>\n",
    "\n",
    "Then write a `coinToss(n)` function that simulates a coin toss $n$ times and returns the number of heads.<br>\n",
    "\n",
    "After that for $n = 1$ to $2300$, run `coinToss(n)` function and `plot` the average number of heads as a function of n.<br>\n",
    "\n",
    "---\n",
    "\n",
    "\n",
    "\n"
   ]
  },
  {
   "cell_type": "code",
   "execution_count": 18,
   "metadata": {},
   "outputs": [],
   "source": [
    "def singleCoinToss():\n",
    "    # Write your code here\n",
    "    # Use np.random.randint() to simulate a single coin toss\n",
    "\n",
    "\n",
    "\n",
    "\n",
    "\n",
    "    \n",
    "    return result\n",
    "\n",
    "def coinToss(n):\n",
    "   # Write your code here\n",
    "\n",
    "\n",
    "\n",
    "\n",
    "\n",
    "    return result\n"
   ]
  },
  {
   "cell_type": "code",
   "execution_count": 22,
   "metadata": {},
   "outputs": [],
   "source": [
    "# Test your function by plotting the result\n",
    "\n",
    "# Write your code here\n",
    "#------------------------------------------------------------\n",
    "\n",
    "\n",
    "\n",
    "\n",
    "\n",
    "\n",
    "# End of code\n",
    "#------------------------------------------------------------"
   ]
  },
  {
   "cell_type": "markdown",
   "metadata": {},
   "source": [
    "#### <span style=\"color: #27E860;\"> Applied Question 2 :</span>\n",
    "\n",
    "---\n",
    "Using np.random write a `aPointInUnitSquare()` function to simulate getting a random point in a unit square.<br>\n",
    "\n",
    "Then write a `pointsInUnitSquare(n)` function that simulates the above $n$ times and returns the array of points.<br>\n",
    "\n",
    "After that for $n = [23,230,2300]$, run `pointsInUnitSquare(n)` function and `plot` the points in the left half of the unit square red and the rest blue and print the ratio of blue points to red points.<br>\n",
    "\n",
    "---\n",
    "\n",
    "\n",
    "\n"
   ]
  },
  {
   "cell_type": "code",
   "execution_count": 23,
   "metadata": {},
   "outputs": [],
   "source": [
    "def aPointInUnitSquare():\n",
    "    # Write your code here\n",
    "    # Use np.random.uniform() to generate a random point in the unit square\n",
    "\n",
    "\n",
    "\n",
    "\n",
    "\n",
    "    \n",
    "    return point\n",
    "\n",
    "def pointsInUnitSquare(n):\n",
    "    # Write your code here\n",
    "\n",
    "\n",
    "\n",
    "\n",
    "\n",
    "\n",
    "    \n",
    "    return points"
   ]
  },
  {
   "cell_type": "code",
   "execution_count": 21,
   "metadata": {},
   "outputs": [],
   "source": [
    "# Test your function by plotting the result and printing the wanted values\n",
    "\n",
    "# Write your code here\n",
    "#------------------------------------------------------------\n",
    "\n",
    "\n",
    "\n",
    "\n",
    "\n",
    "\n",
    "# End of code\n",
    "#------------------------------------------------------------"
   ]
  }
 ],
 "metadata": {
  "kernelspec": {
   "display_name": "base",
   "language": "python",
   "name": "python3"
  },
  "language_info": {
   "codemirror_mode": {
    "name": "ipython",
    "version": 3
   },
   "file_extension": ".py",
   "mimetype": "text/x-python",
   "name": "python",
   "nbconvert_exporter": "python",
   "pygments_lexer": "ipython3",
   "version": "3.11.9"
  }
 },
 "nbformat": 4,
 "nbformat_minor": 2
}
