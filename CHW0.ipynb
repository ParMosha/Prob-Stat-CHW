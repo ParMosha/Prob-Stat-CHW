{
 "cells": [
  {
   "cell_type": "markdown",
   "metadata": {},
   "source": [
    "# __CHW0__"
   ]
  },
  {
   "cell_type": "markdown",
   "metadata": {},
   "source": [
    "Please save all the files including the notebook file and other files as `STUDENTNUMBER_Prob&Stats_CHW0.zip` and complete the following sections as described in the `CHW0.ipynb` notebook.<br>\n",
    "Blue sections are <span style=\"color: #2791E8;\">Theorical Questions</span>  and Green sections are <span style=\"color: green;\"> Applied Questions</span> that need to be simulated based on the given description."
   ]
  },
  {
   "cell_type": "markdown",
   "metadata": {},
   "source": [
    "### __StudentID:__ (enter your student ID here)"
   ]
  },
  {
   "cell_type": "markdown",
   "metadata": {},
   "source": []
  }
 ],
 "metadata": {
  "language_info": {
   "name": "python"
  }
 },
 "nbformat": 4,
 "nbformat_minor": 2
}
